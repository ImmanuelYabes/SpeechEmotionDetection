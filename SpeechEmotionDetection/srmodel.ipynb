{
 "cells": [
  {
   "cell_type": "code",
   "execution_count": 41,
   "metadata": {},
   "outputs": [
    {
     "name": "stdout",
     "output_type": "stream",
     "text": [
      "Requirement already satisfied: vadersentiment in e:\\aldd\\python\\lib\\site-packages (3.3.2)\n",
      "Requirement already satisfied: requests in e:\\aldd\\python\\lib\\site-packages (from vadersentiment) (2.30.0)\n",
      "Requirement already satisfied: charset-normalizer<4,>=2 in e:\\aldd\\python\\lib\\site-packages (from requests->vadersentiment) (3.1.0)\n",
      "Requirement already satisfied: idna<4,>=2.5 in e:\\aldd\\python\\lib\\site-packages (from requests->vadersentiment) (3.4)\n",
      "Requirement already satisfied: urllib3<3,>=1.21.1 in e:\\aldd\\python\\lib\\site-packages (from requests->vadersentiment) (1.26.15)\n",
      "Requirement already satisfied: certifi>=2017.4.17 in e:\\aldd\\python\\lib\\site-packages (from requests->vadersentiment) (2023.5.7)\n",
      "Note: you may need to restart the kernel to use updated packages.\n"
     ]
    }
   ],
   "source": [
    "pip install vadersentiment"
   ]
  },
  {
   "cell_type": "code",
   "execution_count": 42,
   "metadata": {},
   "outputs": [
    {
     "name": "stdout",
     "output_type": "stream",
     "text": [
      "Requirement already satisfied: SpeechRecognition in e:\\aldd\\python\\lib\\site-packages (3.10.0)\n",
      "Requirement already satisfied: requests>=2.26.0 in e:\\aldd\\python\\lib\\site-packages (from SpeechRecognition) (2.30.0)\n",
      "Requirement already satisfied: charset-normalizer<4,>=2 in e:\\aldd\\python\\lib\\site-packages (from requests>=2.26.0->SpeechRecognition) (3.1.0)\n",
      "Requirement already satisfied: idna<4,>=2.5 in e:\\aldd\\python\\lib\\site-packages (from requests>=2.26.0->SpeechRecognition) (3.4)\n",
      "Requirement already satisfied: urllib3<3,>=1.21.1 in e:\\aldd\\python\\lib\\site-packages (from requests>=2.26.0->SpeechRecognition) (1.26.15)\n",
      "Requirement already satisfied: certifi>=2017.4.17 in e:\\aldd\\python\\lib\\site-packages (from requests>=2.26.0->SpeechRecognition) (2023.5.7)\n",
      "Note: you may need to restart the kernel to use updated packages.\n"
     ]
    }
   ],
   "source": [
    "pip install SpeechRecognition"
   ]
  },
  {
   "cell_type": "code",
   "execution_count": 43,
   "metadata": {},
   "outputs": [
    {
     "name": "stdout",
     "output_type": "stream",
     "text": [
      "Requirement already satisfied: textblob in e:\\aldd\\python\\lib\\site-packages (0.17.1)\n",
      "Requirement already satisfied: nltk>=3.1 in e:\\aldd\\python\\lib\\site-packages (from textblob) (3.8.1)\n",
      "Requirement already satisfied: click in e:\\aldd\\python\\lib\\site-packages (from nltk>=3.1->textblob) (8.1.3)\n",
      "Requirement already satisfied: joblib in e:\\aldd\\python\\lib\\site-packages (from nltk>=3.1->textblob) (1.2.0)\n",
      "Requirement already satisfied: regex>=2021.8.3 in e:\\aldd\\python\\lib\\site-packages (from nltk>=3.1->textblob) (2023.6.3)\n",
      "Requirement already satisfied: tqdm in e:\\aldd\\python\\lib\\site-packages (from nltk>=3.1->textblob) (4.65.0)\n",
      "Requirement already satisfied: colorama in c:\\users\\lenovo\\appdata\\roaming\\python\\python310\\site-packages (from click->nltk>=3.1->textblob) (0.4.6)\n",
      "Note: you may need to restart the kernel to use updated packages.\n"
     ]
    }
   ],
   "source": [
    "pip install textblob"
   ]
  },
  {
   "cell_type": "code",
   "execution_count": 1,
   "metadata": {},
   "outputs": [],
   "source": [
    "from vaderSentiment.vaderSentiment import SentimentIntensityAnalyzer as sia\n",
    "import speech_recognition as sr "
   ]
  },
  {
   "cell_type": "code",
   "execution_count": 28,
   "metadata": {},
   "outputs": [
    {
     "name": "stdout",
     "output_type": "stream",
     "text": [
      "Clearing background noise...\n",
      "Waiting for your message...\n",
      "Done recording!!\n",
      "Printing the message...\n",
      "Your message: tingkah laku kamu seperti anjing\n",
      "{'neg': 0.0, 'neu': 1.0, 'pos': 0.0, 'compound': 0.0}\n"
     ]
    }
   ],
   "source": [
    "recognizer = sr.Recognizer()\n",
    "\n",
    "with sr.Microphone() as source:\n",
    "  print('Clearing background noise...')\n",
    "  recognizer.adjust_for_ambient_noise(source,duration = 1)\n",
    "  print('Waiting for your message...')\n",
    "  audio = recognizer.listen(source)\n",
    "  print('Done recording!!')\n",
    "\n",
    "try:\n",
    "  print('Printing the message...')\n",
    "  text = recognizer.recognize_google(audio, language= 'id-ID')\n",
    "  print(f'Your message: {text}')\n",
    "except Exception as ex:\n",
    "  print(ex)\n",
    "\n",
    "sen = [str(text)]\n",
    "analyzer = sia()\n",
    "for i in sen:\n",
    "  v = analyzer.polarity_scores(i)\n",
    "  print(v)"
   ]
  },
  {
   "cell_type": "code",
   "execution_count": 30,
   "metadata": {},
   "outputs": [],
   "source": [
    "from textblob import TextBlob"
   ]
  },
  {
   "cell_type": "code",
   "execution_count": 40,
   "metadata": {},
   "outputs": [
    {
     "name": "stdout",
     "output_type": "stream",
     "text": [
      "Clearing background noise...\n",
      "Waiting for your message...\n",
      "Done recording!!\n",
      "Printing the message...\n",
      "Your message: the victim was murdered in his house\n",
      "-0.07500000000000001\n"
     ]
    }
   ],
   "source": [
    "recognizer = sr.Recognizer()\n",
    "\n",
    "with sr.Microphone() as source:\n",
    "  print('Clearing background noise...')\n",
    "  recognizer.adjust_for_ambient_noise(source,duration = 0.2)\n",
    "  print('Waiting for your message...')\n",
    "  audio = recognizer.listen(source)\n",
    "  print('Done recording!!')\n",
    "\n",
    "try:\n",
    "  print('Printing the message...')\n",
    "  text = recognizer.recognize_google(audio, language= 'en-US')\n",
    "  print(f'Your message: {text}')\n",
    "except Exception as ex:\n",
    "  print(ex)\n",
    "\n",
    "\n",
    "sentence = TextBlob(text)\n",
    "sentiment = sentence.sentiment.polarity\n",
    "print(sentiment)"
   ]
  }
 ],
 "metadata": {
  "kernelspec": {
   "display_name": "Python 3",
   "language": "python",
   "name": "python3"
  },
  "language_info": {
   "codemirror_mode": {
    "name": "ipython",
    "version": 3
   },
   "file_extension": ".py",
   "mimetype": "text/x-python",
   "name": "python",
   "nbconvert_exporter": "python",
   "pygments_lexer": "ipython3",
   "version": "3.10.10"
  },
  "orig_nbformat": 4
 },
 "nbformat": 4,
 "nbformat_minor": 2
}
